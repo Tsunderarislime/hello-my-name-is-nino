{
 "cells": [
  {
   "cell_type": "code",
   "execution_count": null,
   "id": "e5d8b218",
   "metadata": {},
   "outputs": [],
   "source": [
    "import pandas as pd\n",
    "import matplotlib.pyplot as plt\n",
    "import cv2"
   ]
  },
  {
   "cell_type": "code",
   "execution_count": null,
   "id": "a157e762",
   "metadata": {},
   "outputs": [],
   "source": [
    "nino = pd.read_csv('nino.csv')\n",
    "nino"
   ]
  },
  {
   "cell_type": "code",
   "execution_count": null,
   "id": "067832ae",
   "metadata": {},
   "outputs": [],
   "source": [
    "#URL for use with CSS\n",
    "def url(s):\n",
    "    return \"url(./nino/\" + s + \")\""
   ]
  },
  {
   "cell_type": "code",
   "execution_count": null,
   "id": "cae46a96",
   "metadata": {},
   "outputs": [],
   "source": [
    "id = 199\n",
    "vol = 3\n",
    "ch = 0\n",
    "source = \"0\" + str(vol) + \"/0\" + str(ch) + \"/\" + str(id) + \".jpg\"\n",
    "source = \"03/ex/198-199.jpg\"\n",
    "\n",
    "panel = cv2.cvtColor(cv2.imread(source), cv2.COLOR_BGR2RGB)\n",
    "plt.imshow(panel)\n",
    "plt.show()"
   ]
  },
  {
   "cell_type": "code",
   "execution_count": null,
   "id": "48cbaea8",
   "metadata": {},
   "outputs": [],
   "source": [
    "left = 55\n",
    "top = 1235\n",
    "\n",
    "l = 1070-left\n",
    "t = 1600-top\n",
    "\n",
    "width = 935\n",
    "height = 240\n",
    "\n",
    "plt.imshow(panel[top:(top+height), left:(left+width), :])\n",
    "plt.show()"
   ]
  },
  {
   "cell_type": "code",
   "execution_count": null,
   "id": "7f92eacf",
   "metadata": {},
   "outputs": [],
   "source": [
    "row = pd.DataFrame([[id, url(source), vol, ch, left, top, width, height]], columns=['id', 'src', 'volume', 'chapter', 'left', 'top', 'width', 'height'])\n",
    "nino = pd.concat([nino, row], ignore_index=True)\n",
    "nino.to_csv('./nino.csv', index=False)\n",
    "nino = pd.read_csv('./nino.csv')\n",
    "nino"
   ]
  },
  {
   "cell_type": "code",
   "execution_count": null,
   "id": "15c1f62e",
   "metadata": {},
   "outputs": [],
   "source": [
    "nino = nino.drop(188)"
   ]
  }
 ],
 "metadata": {
  "kernelspec": {
   "display_name": "Python 3 (ipykernel)",
   "language": "python",
   "name": "python3"
  },
  "language_info": {
   "codemirror_mode": {
    "name": "ipython",
    "version": 3
   },
   "file_extension": ".py",
   "mimetype": "text/x-python",
   "name": "python",
   "nbconvert_exporter": "python",
   "pygments_lexer": "ipython3",
   "version": "3.10.8"
  },
  "vscode": {
   "interpreter": {
    "hash": "1b71bac9c495026ac314894acc67ce1522302aabe8018d8e93d44dbc51b6da4a"
   }
  }
 },
 "nbformat": 4,
 "nbformat_minor": 5
}
